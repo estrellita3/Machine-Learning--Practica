{
 "cells": [
  {
   "cell_type": "code",
   "execution_count": null,
   "id": "c86b1aa0",
   "metadata": {},
   "outputs": [],
   "source": [
    "\n",
    "# cargamos librerías necesarias\n",
    "import numpy  as np  \n",
    "import pandas as pd\n",
    "\n",
    "import matplotlib.pyplot as plt # para dibujar\n",
    "%matplotlib inline"
   ]
  },
  {
   "cell_type": "code",
   "execution_count": null,
   "id": "c1c9039f",
   "metadata": {},
   "outputs": [],
   "source": [
    "aribnb-listings = pd.read_csv(\"./data/airbnb-listings-extract.csv\") # cargamos fichero\n",
    "airbnb-listings.head()  "
   ]
  },
  {
   "cell_type": "code",
   "execution_count": null,
   "id": "98041611",
   "metadata": {},
   "outputs": [],
   "source": [
    "# shape\n",
    "print(dataset.shape)"
   ]
  },
  {
   "cell_type": "code",
   "execution_count": null,
   "id": "07a6bbdf",
   "metadata": {},
   "outputs": [],
   "source": [
    "# head\n",
    "print(dataset.head(5))"
   ]
  },
  {
   "cell_type": "code",
   "execution_count": null,
   "id": "7956daf6",
   "metadata": {},
   "outputs": [],
   "source": [
    "# RESUMEN ESTADISTICOS\n",
    "\n",
    "# descriptions\n",
    "print(dataset.describe())"
   ]
  },
  {
   "cell_type": "code",
   "execution_count": null,
   "id": "6600ecb9",
   "metadata": {},
   "outputs": [],
   "source": [
    "# class distribution\n",
    "print(dataset.groupby('class').size())"
   ]
  },
  {
   "cell_type": "code",
   "execution_count": null,
   "id": "90cccfbd",
   "metadata": {},
   "outputs": [],
   "source": [
    "# box and whisker plots\n",
    "dataset.plot(kind='box', subplots=True, layout=(2,2), sharex=False, sharey=False)\n",
    "plt.show()"
   ]
  },
  {
   "cell_type": "code",
   "execution_count": null,
   "id": "55316dd5",
   "metadata": {},
   "outputs": [],
   "source": [
    "# histograms\n",
    "dataset.hist()\n",
    "plt.show()"
   ]
  },
  {
   "cell_type": "code",
   "execution_count": null,
   "id": "75f9e703",
   "metadata": {},
   "outputs": [],
   "source": [
    "# scatter plot matrix\n",
    "scatter_matrix(dataset)\n",
    "plt.show()"
   ]
  },
  {
   "cell_type": "code",
   "execution_count": null,
   "id": "6e882f2c",
   "metadata": {},
   "outputs": [],
   "source": [
    "# distribución de los datos para el dataset de validación\n",
    "\n",
    "# Split-out validation dataset\n",
    "array = dataset.values\n",
    "X = array[:,0:4]\n",
    "Y = array[:,4]\n",
    "\n",
    "# test de validación 20%\n",
    "validation_size = 0.20 \n",
    "Z = 7"
   ]
  },
  {
   "cell_type": "code",
   "execution_count": null,
   "id": "95f2f4a0",
   "metadata": {},
   "outputs": [],
   "source": [
    "# Logistic Regression (LR)\n",
    "\n",
    "kfold = model_selection.KFold(n_splits=10, random_state)\n",
    "\n"
   ]
  },
  {
   "cell_type": "code",
   "execution_count": null,
   "id": "8cfe1260",
   "metadata": {},
   "outputs": [],
   "source": [
    "\n",
    "\n",
    "kfold = model_selection.KFold(n_splits=10, random_state)\n",
    "\n",
    "cv_results = model_selection.cross_val_score(KNeighborsClassifier(), X_train, Y_train, cv=kfold, scoring=scoring)\n",
    "    \n",
    "msg = \"KNN: %f (%f)\" % (cv_results.mean(), cv_results.std())\n",
    "print(msg)"
   ]
  },
  {
   "cell_type": "code",
   "execution_count": null,
   "id": "e82f4aac",
   "metadata": {},
   "outputs": [],
   "source": []
  },
  {
   "cell_type": "code",
   "execution_count": null,
   "id": "28dc9bb0",
   "metadata": {},
   "outputs": [],
   "source": []
  },
  {
   "cell_type": "code",
   "execution_count": null,
   "id": "60d84aa9",
   "metadata": {},
   "outputs": [],
   "source": []
  },
  {
   "cell_type": "code",
   "execution_count": null,
   "id": "2588b61f",
   "metadata": {},
   "outputs": [],
   "source": []
  }
 ],
 "metadata": {
  "kernelspec": {
   "display_name": "Python 3 (ipykernel)",
   "language": "python",
   "name": "python3"
  },
  "language_info": {
   "codemirror_mode": {
    "name": "ipython",
    "version": 3
   },
   "file_extension": ".py",
   "mimetype": "text/x-python",
   "name": "python",
   "nbconvert_exporter": "python",
   "pygments_lexer": "ipython3",
   "version": "3.9.7"
  }
 },
 "nbformat": 4,
 "nbformat_minor": 5
}
